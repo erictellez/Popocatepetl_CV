{
 "cells": [
  {
   "cell_type": "markdown",
   "id": "37bf2436-3ee4-4b00-a58d-2fa0e70a31b7",
   "metadata": {},
   "source": [
    "# Código para procesar las imágenes de las webcams del Popocatépetl\n",
    "# Este programa está adaptado específicamente para el uso de los comandos de Mindspore\n",
    "\n",
    "#### Adaptación de Eric Téllez al código https://colab.research.google.com/drive/1kijMzfl1Mk3WytCWt7Yc4DGOAvWirwF9\n",
    "\n",
    "#### Este programa solo funciona con imágenes fijas, por lo que es posible que no nos funcione para ver las cámaras en tiempo real, pero es una buena introducción para conocer los modelos.\n",
    "\n",
    "#### En este primer programa vamos a tratar de identificar solamente gases y cenizas a partir de las imágenes.\n",
    "\n",
    "https://www.youtube.com/watch?v=cmux-yT29uc"
   ]
  },
  {
   "cell_type": "code",
   "execution_count": 2,
   "id": "295b63ac-a32b-46de-a36f-8b85d5323fdf",
   "metadata": {},
   "outputs": [
    {
     "name": "stdout",
     "output_type": "stream",
     "text": [
      "1.8.1\n"
     ]
    }
   ],
   "source": [
    "import mindspore\n",
    "print(mindspore.__version__)"
   ]
  },
  {
   "cell_type": "code",
   "execution_count": 4,
   "id": "cacabf9e-80d8-4315-88a3-00bfd0122647",
   "metadata": {},
   "outputs": [],
   "source": [
    "#Aquí hay que darle la dirección de los datos que puede ser Google Drive, \n",
    "# una dirección en Geofísica como propuso Miguel o la carpeta de DGTIC que tiene esspacio para 2.5 Teras"
   ]
  },
  {
   "cell_type": "code",
   "execution_count": null,
   "id": "c6d79f48-acc1-4321-bf93-91a9383ceecb",
   "metadata": {},
   "outputs": [],
   "source": []
  }
 ],
 "metadata": {
  "kernelspec": {
   "display_name": "Python 3 (ipykernel)",
   "language": "python",
   "name": "python3"
  },
  "language_info": {
   "codemirror_mode": {
    "name": "ipython",
    "version": 3
   },
   "file_extension": ".py",
   "mimetype": "text/x-python",
   "name": "python",
   "nbconvert_exporter": "python",
   "pygments_lexer": "ipython3",
   "version": "3.8.0"
  }
 },
 "nbformat": 4,
 "nbformat_minor": 5
}
